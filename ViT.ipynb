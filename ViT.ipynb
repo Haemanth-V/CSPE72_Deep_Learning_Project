{
 "cells": [
  {
   "cell_type": "code",
   "execution_count": 15,
   "id": "763ce87c",
   "metadata": {},
   "outputs": [],
   "source": [
    "import numpy as np\n",
    "import tensorflow as tf\n",
    "from tensorflow import keras\n",
    "from tensorflow.keras import layers\n",
    "import tensorflow_addons as tfa\n",
    "from tensorflow.keras.preprocessing.image import ImageDataGenerator\n",
    "from IPython.display import clear_output\n",
    "from tensorflow.keras.optimizers import Adam\n",
    "from keras import regularizers\n",
    "from keras.utils.vis_utils import plot_model"
   ]
  },
  {
   "cell_type": "markdown",
   "id": "8d4714a8",
   "metadata": {},
   "source": [
    "### Load dataset"
   ]
  },
  {
   "cell_type": "code",
   "execution_count": 17,
   "id": "23a8f5d0",
   "metadata": {},
   "outputs": [],
   "source": [
    "train_dir = \"\"\" Add Path to train directory of dataset \"\"\"\n",
    "test_dir = \"\"\" Add Path to test directory of dataset \"\"\"\n",
    "model_path = \"\"\" Add Path to save models \"\"\"\n",
    "\n",
    "\n",
    "CLASS_LABELS  = ['Anger', 'Disgust', 'Fear', 'Happy', 'Neutral', 'Sadness', \"Surprise\"]\n",
    "\n",
    "SEED = 12\n",
    "IMG_HEIGHT = 48\n",
    "IMG_WIDTH = 48"
   ]
  },
  {
   "cell_type": "code",
   "execution_count": 18,
   "id": "0e03b258",
   "metadata": {},
   "outputs": [],
   "source": [
    "learning_rate = 0.001\n",
    "weight_decay = 0.0001\n",
    "batch_size = 128\n",
    "num_epochs = 100\n",
    "image_size = 64 \n",
    "patch_size = 6  # Size of the patches to be extract from the input images\n",
    "num_patches = (image_size // patch_size) ** 2\n",
    "projection_dim = 64\n",
    "num_heads = 4\n",
    "transformer_units = [\n",
    "    projection_dim * 2,\n",
    "    projection_dim,\n",
    "]  # Size of the transformer layers\n",
    "transformer_layers = 10\n",
    "input_shape = (48,48,3)\n",
    "num_classes = len(CLASS_LABELS)\n",
    "\n",
    "mlp_head_units = [2048, 1024, 256, 64]  # Size of the dense layers of the final classifier"
   ]
  },
  {
   "cell_type": "code",
   "execution_count": 20,
   "id": "236b817c",
   "metadata": {},
   "outputs": [
    {
     "name": "stdout",
     "output_type": "stream",
     "text": [
      "Found 22968 images belonging to 7 classes.\n",
      "Found 5741 images belonging to 7 classes.\n",
      "Found 7178 images belonging to 7 classes.\n"
     ]
    }
   ],
   "source": [
    "preprocess_fun = tf.keras.applications.densenet.preprocess_input\n",
    "\n",
    "train_datagen = ImageDataGenerator(horizontal_flip=True,\n",
    "                                   width_shift_range=0.1,\n",
    "                                   height_shift_range=0.05,\n",
    "                                   rescale = 1./255,\n",
    "                                   validation_split = 0.2,\n",
    "                                   preprocessing_function=preprocess_fun\n",
    "                                  )\n",
    "test_datagen = ImageDataGenerator(rescale = 1./255,\n",
    "                                  validation_split = 0.2,\n",
    "                                  preprocessing_function=preprocess_fun)\n",
    "\n",
    "train_generator = train_datagen.flow_from_directory(directory = train_dir,\n",
    "                                                    target_size = (image_size ,image_size),\n",
    "                                                    batch_size = batch_size,\n",
    "                                                    shuffle  = True , \n",
    "                                                    color_mode = \"rgb\",\n",
    "                                                    class_mode = \"categorical\",\n",
    "                                                    subset = \"training\",\n",
    "                                                    seed = 12\n",
    "                                                   )\n",
    "\n",
    "validation_generator = test_datagen.flow_from_directory(directory = train_dir,\n",
    "                                                         target_size = (image_size ,image_size),\n",
    "                                                         batch_size = batch_size,\n",
    "                                                         shuffle  = True , \n",
    "                                                         color_mode = \"rgb\",\n",
    "                                                         class_mode = \"categorical\",\n",
    "                                                         subset = \"validation\",\n",
    "                                                         seed = 12\n",
    "                                                        )\n",
    "\n",
    "test_generator = test_datagen.flow_from_directory(directory = test_dir,\n",
    "                                                   target_size = (image_size ,image_size),\n",
    "                                                    batch_size = batch_size,\n",
    "                                                    shuffle  = False , \n",
    "                                                    color_mode = \"rgb\",\n",
    "                                                    class_mode = \"categorical\",\n",
    "                                                    seed = 12\n",
    "                                                  )\n"
   ]
  },
  {
   "cell_type": "code",
   "execution_count": 6,
   "id": "d57e3b19",
   "metadata": {},
   "outputs": [],
   "source": [
    "!pip install --quiet vit-keras"
   ]
  },
  {
   "cell_type": "markdown",
   "id": "ede998b4",
   "metadata": {},
   "source": [
    "### Pre-trained Vision transformer"
   ]
  },
  {
   "cell_type": "code",
   "execution_count": 21,
   "id": "3aba7385",
   "metadata": {},
   "outputs": [],
   "source": [
    "from vit_keras import vit\n",
    "vit_mpdel = vit.vit_b32(image_size = image_size, \n",
    "                       activation = 'softmax',\n",
    "                       pretrained=True,\n",
    "                       include_top=False,\n",
    "                       pretrained_top=False,\n",
    "                       classes=7)"
   ]
  },
  {
   "cell_type": "code",
   "execution_count": 86,
   "id": "b0211c5c",
   "metadata": {},
   "outputs": [
    {
     "name": "stdout",
     "output_type": "stream",
     "text": [
      "Found 7178 images belonging to 7 classes.\n",
      "1/1 [==============================] - 2s 2s/step\n"
     ]
    },
    {
     "data": {
      "image/png": "[encoded data removed]",
      "text/plain": [
       "<Figure size 640x480 with 2 Axes>"
      ]
     },
     "metadata": {},
     "output_type": "display_data"
    }
   ],
   "source": [
    "from vit_keras import visualize\n",
    "\n",
    "img_datagen = ImageDataGenerator(rescale=1./255)\n",
    "img_generator = img_datagen.flow_from_directory(directory = test_dir,\n",
    "                                                   target_size = (image_size ,image_size),\n",
    "                                                    batch_size = BATCH_SIZE,\n",
    "                                                    shuffle  = True , \n",
    "                                                    color_mode = \"rgb\",\n",
    "                                                    class_mode = \"categorical\",\n",
    "                                                    seed = 12\n",
    "                                                  )\n",
    "images, classes = next(img_generator)\n",
    "image = images[5]\n",
    "\n",
    "attention_map = visualize.attention_map(model = vit_mpdel, image = image)\n",
    "\n",
    "# Plot results\n",
    "fig, (ax1, ax2) = plt.subplots(ncols = 2)\n",
    "ax1.axis('off')\n",
    "ax2.axis('off')\n",
    "ax1.set_title('Original')\n",
    "ax2.set_title('Attention Map')\n",
    "_ = ax1.imshow(image)\n",
    "_ = ax2.imshow(attention_map)"
   ]
  },
  {
   "cell_type": "code",
   "execution_count": 13,
   "id": "130d5425",
   "metadata": {},
   "outputs": [
    {
     "name": "stdout",
     "output_type": "stream",
     "text": [
      "Model: \"vision_transformer\"\n",
      "_________________________________________________________________\n",
      " Layer (type)                Output Shape              Param #   \n",
      "=================================================================\n",
      " vit-b32 (Functional)        (None, 768)               87420672  \n",
      "                                                                 \n",
      " flatten (Flatten)           (None, 768)               0         \n",
      "                                                                 \n",
      " batch_normalization (BatchN  (None, 768)              3072      \n",
      " ormalization)                                                   \n",
      "                                                                 \n",
      " dense (Dense)               (None, 1024)              787456    \n",
      "                                                                 \n",
      " batch_normalization_1 (Batc  (None, 1024)             4096      \n",
      " hNormalization)                                                 \n",
      "                                                                 \n",
      " dense_1 (Dense)             (None, 7)                 7175      \n",
      "                                                                 \n",
      "=================================================================\n",
      "Total params: 88,222,471\n",
      "Trainable params: 88,218,887\n",
      "Non-trainable params: 3,584\n",
      "_________________________________________________________________\n"
     ]
    }
   ],
   "source": [
    "model = tf.keras.Sequential([\n",
    "        vit_mpdel,\n",
    "        tf.keras.layers.Flatten(),\n",
    "        tf.keras.layers.BatchNormalization(),\n",
    "        tf.keras.layers.Dense(1024, activation = tfa.activations.gelu),\n",
    "        tf.keras.layers.BatchNormalization(),\n",
    "        tf.keras.layers.Dense(7, 'softmax')\n",
    "    ],\n",
    "    name = 'vision_transformer')\n",
    "\n",
    "model.summary()"
   ]
  },
  {
   "cell_type": "code",
   "execution_count": 14,
   "id": "ca4e0cc6",
   "metadata": {},
   "outputs": [
    {
     "data": {
      "image/png": "[encoded data removed]",
      "text/plain": [
       "<IPython.core.display.Image object>"
      ]
     },
     "execution_count": 14,
     "metadata": {},
     "output_type": "execute_result"
    }
   ],
   "source": [
    "plot_model(model, to_file='ViT_plot.png', show_shapes=True, show_layer_names=True)"
   ]
  },
  {
   "cell_type": "code",
   "execution_count": 88,
   "id": "0f6306ea",
   "metadata": {
    "scrolled": true
   },
   "outputs": [
    {
     "name": "stdout",
     "output_type": "stream",
     "text": [
      "Epoch 1/100\n",
      "180/180 [==============================] - 43s 159ms/step - loss: 2.3260 - accuracy: 0.1663 - val_loss: 2.0864 - val_accuracy: 0.1653\n",
      "Epoch 2/100\n",
      "180/180 [==============================] - 26s 144ms/step - loss: 2.0229 - accuracy: 0.1988 - val_loss: 2.0398 - val_accuracy: 0.2428\n",
      "Epoch 3/100\n",
      "180/180 [==============================] - 26s 144ms/step - loss: 1.8828 - accuracy: 0.2252 - val_loss: 1.8265 - val_accuracy: 0.2672\n",
      "Epoch 4/100\n",
      "180/180 [==============================] - 27s 147ms/step - loss: 1.8212 - accuracy: 0.2501 - val_loss: 1.8193 - val_accuracy: 0.2648\n",
      "Epoch 5/100\n",
      "180/180 [==============================] - 26s 144ms/step - loss: 1.7888 - accuracy: 0.2721 - val_loss: 1.8838 - val_accuracy: 0.2874\n",
      "Epoch 6/100\n",
      "180/180 [==============================] - 26s 146ms/step - loss: 1.7722 - accuracy: 0.2819 - val_loss: 1.7559 - val_accuracy: 0.2881\n",
      "Epoch 7/100\n",
      "180/180 [==============================] - 26s 146ms/step - loss: 1.7405 - accuracy: 0.2962 - val_loss: 1.7592 - val_accuracy: 0.2731\n",
      "Epoch 8/100\n",
      "180/180 [==============================] - 26s 146ms/step - loss: 1.7285 - accuracy: 0.3029 - val_loss: 1.7033 - val_accuracy: 0.3219\n",
      "Epoch 9/100\n",
      "180/180 [==============================] - 26s 144ms/step - loss: 1.7118 - accuracy: 0.3122 - val_loss: 1.7707 - val_accuracy: 0.3168\n",
      "Epoch 10/100\n",
      "180/180 [==============================] - 26s 146ms/step - loss: 1.7031 - accuracy: 0.3203 - val_loss: 1.7179 - val_accuracy: 0.3202\n",
      "Epoch 11/100\n",
      "180/180 [==============================] - 26s 145ms/step - loss: 1.6910 - accuracy: 0.3272 - val_loss: 1.6786 - val_accuracy: 0.3433\n",
      "Epoch 12/100\n",
      "180/180 [==============================] - 26s 146ms/step - loss: 1.6824 - accuracy: 0.3282 - val_loss: 1.6731 - val_accuracy: 0.3350\n",
      "Epoch 13/100\n",
      "180/180 [==============================] - 26s 145ms/step - loss: 1.6676 - accuracy: 0.3407 - val_loss: 1.6706 - val_accuracy: 0.3517\n",
      "Epoch 14/100\n",
      "180/180 [==============================] - 27s 147ms/step - loss: 1.6602 - accuracy: 0.3398 - val_loss: 1.6374 - val_accuracy: 0.3607\n",
      "Epoch 15/100\n",
      "180/180 [==============================] - 28s 155ms/step - loss: 1.6506 - accuracy: 0.3487 - val_loss: 1.6389 - val_accuracy: 0.3618\n",
      "Epoch 16/100\n",
      "180/180 [==============================] - 26s 146ms/step - loss: 1.6352 - accuracy: 0.3589 - val_loss: 1.6067 - val_accuracy: 0.3611\n",
      "Epoch 17/100\n",
      "180/180 [==============================] - 27s 150ms/step - loss: 1.6264 - accuracy: 0.3586 - val_loss: 1.6273 - val_accuracy: 0.3712\n",
      "Epoch 18/100\n",
      "180/180 [==============================] - 26s 144ms/step - loss: 1.6108 - accuracy: 0.3673 - val_loss: 1.6366 - val_accuracy: 0.3588\n",
      "Epoch 19/100\n",
      "180/180 [==============================] - 27s 152ms/step - loss: 1.5960 - accuracy: 0.3747 - val_loss: 1.5826 - val_accuracy: 0.3895\n",
      "Epoch 20/100\n",
      "180/180 [==============================] - 26s 146ms/step - loss: 1.5908 - accuracy: 0.3777 - val_loss: 1.5803 - val_accuracy: 0.3898\n",
      "Epoch 21/100\n",
      " 30/180 [====>.........................] - ETA: 20s - loss: 1.5535 - accuracy: 0.3909"
     ]
    },
    {
     "ename": "KeyboardInterrupt",
     "evalue": "",
     "output_type": "error",
     "traceback": [
      "\u001b[1;31m---------------------------------------------------------------------------\u001b[0m",
      "\u001b[1;31mKeyboardInterrupt\u001b[0m                         Traceback (most recent call last)",
      "Input \u001b[1;32mIn [88]\u001b[0m, in \u001b[0;36m<cell line: 4>\u001b[1;34m()\u001b[0m\n\u001b[0;32m      1\u001b[0m model\u001b[38;5;241m.\u001b[39mcompile(optimizer \u001b[38;5;241m=\u001b[39m Adam(lr\u001b[38;5;241m=\u001b[39m\u001b[38;5;241m1e-4\u001b[39m), \n\u001b[0;32m      2\u001b[0m               loss \u001b[38;5;241m=\u001b[39m \u001b[38;5;124m'\u001b[39m\u001b[38;5;124mcategorical_crossentropy\u001b[39m\u001b[38;5;124m'\u001b[39m, \n\u001b[0;32m      3\u001b[0m               metrics \u001b[38;5;241m=\u001b[39m [\u001b[38;5;124m'\u001b[39m\u001b[38;5;124maccuracy\u001b[39m\u001b[38;5;124m'\u001b[39m])\n\u001b[1;32m----> 4\u001b[0m \u001b[43mmodel\u001b[49m\u001b[38;5;241;43m.\u001b[39;49m\u001b[43mfit\u001b[49m\u001b[43m(\u001b[49m\u001b[43mx\u001b[49m\u001b[43m \u001b[49m\u001b[38;5;241;43m=\u001b[39;49m\u001b[43m \u001b[49m\u001b[43mtrain_generator\u001b[49m\u001b[43m,\u001b[49m\n\u001b[0;32m      5\u001b[0m \u001b[43m          \u001b[49m\u001b[43mvalidation_data\u001b[49m\u001b[43m \u001b[49m\u001b[38;5;241;43m=\u001b[39;49m\u001b[43m \u001b[49m\u001b[43mvalidation_generator\u001b[49m\u001b[43m,\u001b[49m\n\u001b[0;32m      6\u001b[0m \u001b[43m          \u001b[49m\u001b[43mepochs\u001b[49m\u001b[43m \u001b[49m\u001b[38;5;241;43m=\u001b[39;49m\u001b[43m \u001b[49m\u001b[43mEPOCHS\u001b[49m\u001b[43m)\u001b[49m\n",
      "File \u001b[1;32m~\\miniconda3\\envs\\tf\\lib\\site-packages\\keras\\utils\\traceback_utils.py:65\u001b[0m, in \u001b[0;36mfilter_traceback.<locals>.error_handler\u001b[1;34m(*args, **kwargs)\u001b[0m\n\u001b[0;32m     63\u001b[0m filtered_tb \u001b[38;5;241m=\u001b[39m \u001b[38;5;28;01mNone\u001b[39;00m\n\u001b[0;32m     64\u001b[0m \u001b[38;5;28;01mtry\u001b[39;00m:\n\u001b[1;32m---> 65\u001b[0m     \u001b[38;5;28;01mreturn\u001b[39;00m fn(\u001b[38;5;241m*\u001b[39margs, \u001b[38;5;241m*\u001b[39m\u001b[38;5;241m*\u001b[39mkwargs)\n\u001b[0;32m     66\u001b[0m \u001b[38;5;28;01mexcept\u001b[39;00m \u001b[38;5;167;01mException\u001b[39;00m \u001b[38;5;28;01mas\u001b[39;00m e:\n\u001b[0;32m     67\u001b[0m     filtered_tb \u001b[38;5;241m=\u001b[39m _process_traceback_frames(e\u001b[38;5;241m.\u001b[39m__traceback__)\n",
      "File \u001b[1;32m~\\miniconda3\\envs\\tf\\lib\\site-packages\\keras\\engine\\training.py:1570\u001b[0m, in \u001b[0;36mModel.fit\u001b[1;34m(self, x, y, batch_size, epochs, verbose, callbacks, validation_split, validation_data, shuffle, class_weight, sample_weight, initial_epoch, steps_per_epoch, validation_steps, validation_batch_size, validation_freq, max_queue_size, workers, use_multiprocessing)\u001b[0m\n\u001b[0;32m   1568\u001b[0m logs \u001b[38;5;241m=\u001b[39m tmp_logs\n\u001b[0;32m   1569\u001b[0m end_step \u001b[38;5;241m=\u001b[39m step \u001b[38;5;241m+\u001b[39m data_handler\u001b[38;5;241m.\u001b[39mstep_increment\n\u001b[1;32m-> 1570\u001b[0m \u001b[43mcallbacks\u001b[49m\u001b[38;5;241;43m.\u001b[39;49m\u001b[43mon_train_batch_end\u001b[49m\u001b[43m(\u001b[49m\u001b[43mend_step\u001b[49m\u001b[43m,\u001b[49m\u001b[43m \u001b[49m\u001b[43mlogs\u001b[49m\u001b[43m)\u001b[49m\n\u001b[0;32m   1571\u001b[0m \u001b[38;5;28;01mif\u001b[39;00m \u001b[38;5;28mself\u001b[39m\u001b[38;5;241m.\u001b[39mstop_training:\n\u001b[0;32m   1572\u001b[0m     \u001b[38;5;28;01mbreak\u001b[39;00m\n",
      "File \u001b[1;32m~\\miniconda3\\envs\\tf\\lib\\site-packages\\keras\\callbacks.py:470\u001b[0m, in \u001b[0;36mCallbackList.on_train_batch_end\u001b[1;34m(self, batch, logs)\u001b[0m\n\u001b[0;32m    463\u001b[0m \u001b[38;5;124;03m\"\"\"Calls the `on_train_batch_end` methods of its callbacks.\u001b[39;00m\n\u001b[0;32m    464\u001b[0m \n\u001b[0;32m    465\u001b[0m \u001b[38;5;124;03mArgs:\u001b[39;00m\n\u001b[0;32m    466\u001b[0m \u001b[38;5;124;03m    batch: Integer, index of batch within the current epoch.\u001b[39;00m\n\u001b[0;32m    467\u001b[0m \u001b[38;5;124;03m    logs: Dict. Aggregated metric results up until this batch.\u001b[39;00m\n\u001b[0;32m    468\u001b[0m \u001b[38;5;124;03m\"\"\"\u001b[39;00m\n\u001b[0;32m    469\u001b[0m \u001b[38;5;28;01mif\u001b[39;00m \u001b[38;5;28mself\u001b[39m\u001b[38;5;241m.\u001b[39m_should_call_train_batch_hooks:\n\u001b[1;32m--> 470\u001b[0m     \u001b[38;5;28;43mself\u001b[39;49m\u001b[38;5;241;43m.\u001b[39;49m\u001b[43m_call_batch_hook\u001b[49m\u001b[43m(\u001b[49m\u001b[43mModeKeys\u001b[49m\u001b[38;5;241;43m.\u001b[39;49m\u001b[43mTRAIN\u001b[49m\u001b[43m,\u001b[49m\u001b[43m \u001b[49m\u001b[38;5;124;43m\"\u001b[39;49m\u001b[38;5;124;43mend\u001b[39;49m\u001b[38;5;124;43m\"\u001b[39;49m\u001b[43m,\u001b[49m\u001b[43m \u001b[49m\u001b[43mbatch\u001b[49m\u001b[43m,\u001b[49m\u001b[43m \u001b[49m\u001b[43mlogs\u001b[49m\u001b[38;5;241;43m=\u001b[39;49m\u001b[43mlogs\u001b[49m\u001b[43m)\u001b[49m\n",
      "File \u001b[1;32m~\\miniconda3\\envs\\tf\\lib\\site-packages\\keras\\callbacks.py:317\u001b[0m, in \u001b[0;36mCallbackList._call_batch_hook\u001b[1;34m(self, mode, hook, batch, logs)\u001b[0m\n\u001b[0;32m    315\u001b[0m     \u001b[38;5;28mself\u001b[39m\u001b[38;5;241m.\u001b[39m_call_batch_begin_hook(mode, batch, logs)\n\u001b[0;32m    316\u001b[0m \u001b[38;5;28;01melif\u001b[39;00m hook \u001b[38;5;241m==\u001b[39m \u001b[38;5;124m\"\u001b[39m\u001b[38;5;124mend\u001b[39m\u001b[38;5;124m\"\u001b[39m:\n\u001b[1;32m--> 317\u001b[0m     \u001b[38;5;28;43mself\u001b[39;49m\u001b[38;5;241;43m.\u001b[39;49m\u001b[43m_call_batch_end_hook\u001b[49m\u001b[43m(\u001b[49m\u001b[43mmode\u001b[49m\u001b[43m,\u001b[49m\u001b[43m \u001b[49m\u001b[43mbatch\u001b[49m\u001b[43m,\u001b[49m\u001b[43m \u001b[49m\u001b[43mlogs\u001b[49m\u001b[43m)\u001b[49m\n\u001b[0;32m    318\u001b[0m \u001b[38;5;28;01melse\u001b[39;00m:\n\u001b[0;32m    319\u001b[0m     \u001b[38;5;28;01mraise\u001b[39;00m \u001b[38;5;167;01mValueError\u001b[39;00m(\n\u001b[0;32m    320\u001b[0m         \u001b[38;5;124mf\u001b[39m\u001b[38;5;124m\"\u001b[39m\u001b[38;5;124mUnrecognized hook: \u001b[39m\u001b[38;5;132;01m{\u001b[39;00mhook\u001b[38;5;132;01m}\u001b[39;00m\u001b[38;5;124m. \u001b[39m\u001b[38;5;124m\"\u001b[39m\n\u001b[0;32m    321\u001b[0m         \u001b[38;5;124m'\u001b[39m\u001b[38;5;124mExpected values are [\u001b[39m\u001b[38;5;124m\"\u001b[39m\u001b[38;5;124mbegin\u001b[39m\u001b[38;5;124m\"\u001b[39m\u001b[38;5;124m, \u001b[39m\u001b[38;5;124m\"\u001b[39m\u001b[38;5;124mend\u001b[39m\u001b[38;5;124m\"\u001b[39m\u001b[38;5;124m]\u001b[39m\u001b[38;5;124m'\u001b[39m\n\u001b[0;32m    322\u001b[0m     )\n",
      "File \u001b[1;32m~\\miniconda3\\envs\\tf\\lib\\site-packages\\keras\\callbacks.py:340\u001b[0m, in \u001b[0;36mCallbackList._call_batch_end_hook\u001b[1;34m(self, mode, batch, logs)\u001b[0m\n\u001b[0;32m    337\u001b[0m     batch_time \u001b[38;5;241m=\u001b[39m time\u001b[38;5;241m.\u001b[39mtime() \u001b[38;5;241m-\u001b[39m \u001b[38;5;28mself\u001b[39m\u001b[38;5;241m.\u001b[39m_batch_start_time\n\u001b[0;32m    338\u001b[0m     \u001b[38;5;28mself\u001b[39m\u001b[38;5;241m.\u001b[39m_batch_times\u001b[38;5;241m.\u001b[39mappend(batch_time)\n\u001b[1;32m--> 340\u001b[0m \u001b[38;5;28;43mself\u001b[39;49m\u001b[38;5;241;43m.\u001b[39;49m\u001b[43m_call_batch_hook_helper\u001b[49m\u001b[43m(\u001b[49m\u001b[43mhook_name\u001b[49m\u001b[43m,\u001b[49m\u001b[43m \u001b[49m\u001b[43mbatch\u001b[49m\u001b[43m,\u001b[49m\u001b[43m \u001b[49m\u001b[43mlogs\u001b[49m\u001b[43m)\u001b[49m\n\u001b[0;32m    342\u001b[0m \u001b[38;5;28;01mif\u001b[39;00m \u001b[38;5;28mlen\u001b[39m(\u001b[38;5;28mself\u001b[39m\u001b[38;5;241m.\u001b[39m_batch_times) \u001b[38;5;241m>\u001b[39m\u001b[38;5;241m=\u001b[39m \u001b[38;5;28mself\u001b[39m\u001b[38;5;241m.\u001b[39m_num_batches_for_timing_check:\n\u001b[0;32m    343\u001b[0m     end_hook_name \u001b[38;5;241m=\u001b[39m hook_name\n",
      "File \u001b[1;32m~\\miniconda3\\envs\\tf\\lib\\site-packages\\keras\\callbacks.py:388\u001b[0m, in \u001b[0;36mCallbackList._call_batch_hook_helper\u001b[1;34m(self, hook_name, batch, logs)\u001b[0m\n\u001b[0;32m    386\u001b[0m \u001b[38;5;28;01mfor\u001b[39;00m callback \u001b[38;5;129;01min\u001b[39;00m \u001b[38;5;28mself\u001b[39m\u001b[38;5;241m.\u001b[39mcallbacks:\n\u001b[0;32m    387\u001b[0m     hook \u001b[38;5;241m=\u001b[39m \u001b[38;5;28mgetattr\u001b[39m(callback, hook_name)\n\u001b[1;32m--> 388\u001b[0m     \u001b[43mhook\u001b[49m\u001b[43m(\u001b[49m\u001b[43mbatch\u001b[49m\u001b[43m,\u001b[49m\u001b[43m \u001b[49m\u001b[43mlogs\u001b[49m\u001b[43m)\u001b[49m\n\u001b[0;32m    390\u001b[0m \u001b[38;5;28;01mif\u001b[39;00m \u001b[38;5;28mself\u001b[39m\u001b[38;5;241m.\u001b[39m_check_timing:\n\u001b[0;32m    391\u001b[0m     \u001b[38;5;28;01mif\u001b[39;00m hook_name \u001b[38;5;129;01mnot\u001b[39;00m \u001b[38;5;129;01min\u001b[39;00m \u001b[38;5;28mself\u001b[39m\u001b[38;5;241m.\u001b[39m_hook_times:\n",
      "File \u001b[1;32m~\\miniconda3\\envs\\tf\\lib\\site-packages\\keras\\callbacks.py:1081\u001b[0m, in \u001b[0;36mProgbarLogger.on_train_batch_end\u001b[1;34m(self, batch, logs)\u001b[0m\n\u001b[0;32m   1080\u001b[0m \u001b[38;5;28;01mdef\u001b[39;00m \u001b[38;5;21mon_train_batch_end\u001b[39m(\u001b[38;5;28mself\u001b[39m, batch, logs\u001b[38;5;241m=\u001b[39m\u001b[38;5;28;01mNone\u001b[39;00m):\n\u001b[1;32m-> 1081\u001b[0m     \u001b[38;5;28;43mself\u001b[39;49m\u001b[38;5;241;43m.\u001b[39;49m\u001b[43m_batch_update_progbar\u001b[49m\u001b[43m(\u001b[49m\u001b[43mbatch\u001b[49m\u001b[43m,\u001b[49m\u001b[43m \u001b[49m\u001b[43mlogs\u001b[49m\u001b[43m)\u001b[49m\n",
      "File \u001b[1;32m~\\miniconda3\\envs\\tf\\lib\\site-packages\\keras\\callbacks.py:1157\u001b[0m, in \u001b[0;36mProgbarLogger._batch_update_progbar\u001b[1;34m(self, batch, logs)\u001b[0m\n\u001b[0;32m   1153\u001b[0m     \u001b[38;5;28mself\u001b[39m\u001b[38;5;241m.\u001b[39mseen \u001b[38;5;241m+\u001b[39m\u001b[38;5;241m=\u001b[39m add_seen\n\u001b[0;32m   1155\u001b[0m \u001b[38;5;28;01mif\u001b[39;00m \u001b[38;5;28mself\u001b[39m\u001b[38;5;241m.\u001b[39mverbose \u001b[38;5;241m==\u001b[39m \u001b[38;5;241m1\u001b[39m:\n\u001b[0;32m   1156\u001b[0m     \u001b[38;5;66;03m# Only block async when verbose = 1.\u001b[39;00m\n\u001b[1;32m-> 1157\u001b[0m     logs \u001b[38;5;241m=\u001b[39m \u001b[43mtf_utils\u001b[49m\u001b[38;5;241;43m.\u001b[39;49m\u001b[43msync_to_numpy_or_python_type\u001b[49m\u001b[43m(\u001b[49m\u001b[43mlogs\u001b[49m\u001b[43m)\u001b[49m\n\u001b[0;32m   1158\u001b[0m     \u001b[38;5;28mself\u001b[39m\u001b[38;5;241m.\u001b[39mprogbar\u001b[38;5;241m.\u001b[39mupdate(\u001b[38;5;28mself\u001b[39m\u001b[38;5;241m.\u001b[39mseen, \u001b[38;5;28mlist\u001b[39m(logs\u001b[38;5;241m.\u001b[39mitems()), finalize\u001b[38;5;241m=\u001b[39m\u001b[38;5;28;01mFalse\u001b[39;00m)\n",
      "File \u001b[1;32m~\\miniconda3\\envs\\tf\\lib\\site-packages\\keras\\utils\\tf_utils.py:635\u001b[0m, in \u001b[0;36msync_to_numpy_or_python_type\u001b[1;34m(tensors)\u001b[0m\n\u001b[0;32m    632\u001b[0m         \u001b[38;5;28;01mreturn\u001b[39;00m t\n\u001b[0;32m    633\u001b[0m     \u001b[38;5;28;01mreturn\u001b[39;00m t\u001b[38;5;241m.\u001b[39mitem() \u001b[38;5;28;01mif\u001b[39;00m np\u001b[38;5;241m.\u001b[39mndim(t) \u001b[38;5;241m==\u001b[39m \u001b[38;5;241m0\u001b[39m \u001b[38;5;28;01melse\u001b[39;00m t\n\u001b[1;32m--> 635\u001b[0m \u001b[38;5;28;01mreturn\u001b[39;00m \u001b[43mtf\u001b[49m\u001b[38;5;241;43m.\u001b[39;49m\u001b[43mnest\u001b[49m\u001b[38;5;241;43m.\u001b[39;49m\u001b[43mmap_structure\u001b[49m\u001b[43m(\u001b[49m\u001b[43m_to_single_numpy_or_python_type\u001b[49m\u001b[43m,\u001b[49m\u001b[43m \u001b[49m\u001b[43mtensors\u001b[49m\u001b[43m)\u001b[49m\n",
      "File \u001b[1;32m~\\miniconda3\\envs\\tf\\lib\\site-packages\\tensorflow\\python\\util\\nest.py:917\u001b[0m, in \u001b[0;36mmap_structure\u001b[1;34m(func, *structure, **kwargs)\u001b[0m\n\u001b[0;32m    913\u001b[0m flat_structure \u001b[38;5;241m=\u001b[39m (flatten(s, expand_composites) \u001b[38;5;28;01mfor\u001b[39;00m s \u001b[38;5;129;01min\u001b[39;00m structure)\n\u001b[0;32m    914\u001b[0m entries \u001b[38;5;241m=\u001b[39m \u001b[38;5;28mzip\u001b[39m(\u001b[38;5;241m*\u001b[39mflat_structure)\n\u001b[0;32m    916\u001b[0m \u001b[38;5;28;01mreturn\u001b[39;00m pack_sequence_as(\n\u001b[1;32m--> 917\u001b[0m     structure[\u001b[38;5;241m0\u001b[39m], [func(\u001b[38;5;241m*\u001b[39mx) \u001b[38;5;28;01mfor\u001b[39;00m x \u001b[38;5;129;01min\u001b[39;00m entries],\n\u001b[0;32m    918\u001b[0m     expand_composites\u001b[38;5;241m=\u001b[39mexpand_composites)\n",
      "File \u001b[1;32m~\\miniconda3\\envs\\tf\\lib\\site-packages\\tensorflow\\python\\util\\nest.py:917\u001b[0m, in \u001b[0;36m<listcomp>\u001b[1;34m(.0)\u001b[0m\n\u001b[0;32m    913\u001b[0m flat_structure \u001b[38;5;241m=\u001b[39m (flatten(s, expand_composites) \u001b[38;5;28;01mfor\u001b[39;00m s \u001b[38;5;129;01min\u001b[39;00m structure)\n\u001b[0;32m    914\u001b[0m entries \u001b[38;5;241m=\u001b[39m \u001b[38;5;28mzip\u001b[39m(\u001b[38;5;241m*\u001b[39mflat_structure)\n\u001b[0;32m    916\u001b[0m \u001b[38;5;28;01mreturn\u001b[39;00m pack_sequence_as(\n\u001b[1;32m--> 917\u001b[0m     structure[\u001b[38;5;241m0\u001b[39m], [\u001b[43mfunc\u001b[49m\u001b[43m(\u001b[49m\u001b[38;5;241;43m*\u001b[39;49m\u001b[43mx\u001b[49m\u001b[43m)\u001b[49m \u001b[38;5;28;01mfor\u001b[39;00m x \u001b[38;5;129;01min\u001b[39;00m entries],\n\u001b[0;32m    918\u001b[0m     expand_composites\u001b[38;5;241m=\u001b[39mexpand_composites)\n",
      "File \u001b[1;32m~\\miniconda3\\envs\\tf\\lib\\site-packages\\keras\\utils\\tf_utils.py:628\u001b[0m, in \u001b[0;36msync_to_numpy_or_python_type.<locals>._to_single_numpy_or_python_type\u001b[1;34m(t)\u001b[0m\n\u001b[0;32m    625\u001b[0m \u001b[38;5;28;01mdef\u001b[39;00m \u001b[38;5;21m_to_single_numpy_or_python_type\u001b[39m(t):\n\u001b[0;32m    626\u001b[0m     \u001b[38;5;66;03m# Don't turn ragged or sparse tensors to NumPy.\u001b[39;00m\n\u001b[0;32m    627\u001b[0m     \u001b[38;5;28;01mif\u001b[39;00m \u001b[38;5;28misinstance\u001b[39m(t, tf\u001b[38;5;241m.\u001b[39mTensor):\n\u001b[1;32m--> 628\u001b[0m         t \u001b[38;5;241m=\u001b[39m \u001b[43mt\u001b[49m\u001b[38;5;241;43m.\u001b[39;49m\u001b[43mnumpy\u001b[49m\u001b[43m(\u001b[49m\u001b[43m)\u001b[49m\n\u001b[0;32m    629\u001b[0m     \u001b[38;5;66;03m# Strings, ragged and sparse tensors don't have .item(). Return them\u001b[39;00m\n\u001b[0;32m    630\u001b[0m     \u001b[38;5;66;03m# as-is.\u001b[39;00m\n\u001b[0;32m    631\u001b[0m     \u001b[38;5;28;01mif\u001b[39;00m \u001b[38;5;129;01mnot\u001b[39;00m \u001b[38;5;28misinstance\u001b[39m(t, (np\u001b[38;5;241m.\u001b[39mndarray, np\u001b[38;5;241m.\u001b[39mgeneric)):\n",
      "File \u001b[1;32m~\\miniconda3\\envs\\tf\\lib\\site-packages\\tensorflow\\python\\framework\\ops.py:1157\u001b[0m, in \u001b[0;36m_EagerTensorBase.numpy\u001b[1;34m(self)\u001b[0m\n\u001b[0;32m   1134\u001b[0m \u001b[38;5;124;03m\"\"\"Copy of the contents of this Tensor into a NumPy array or scalar.\u001b[39;00m\n\u001b[0;32m   1135\u001b[0m \n\u001b[0;32m   1136\u001b[0m \u001b[38;5;124;03mUnlike NumPy arrays, Tensors are immutable, so this method has to copy\u001b[39;00m\n\u001b[1;32m   (...)\u001b[0m\n\u001b[0;32m   1154\u001b[0m \u001b[38;5;124;03m    NumPy dtype.\u001b[39;00m\n\u001b[0;32m   1155\u001b[0m \u001b[38;5;124;03m\"\"\"\u001b[39;00m\n\u001b[0;32m   1156\u001b[0m \u001b[38;5;66;03m# TODO(slebedev): Consider avoiding a copy for non-CPU or remote tensors.\u001b[39;00m\n\u001b[1;32m-> 1157\u001b[0m maybe_arr \u001b[38;5;241m=\u001b[39m \u001b[38;5;28;43mself\u001b[39;49m\u001b[38;5;241;43m.\u001b[39;49m\u001b[43m_numpy\u001b[49m\u001b[43m(\u001b[49m\u001b[43m)\u001b[49m  \u001b[38;5;66;03m# pylint: disable=protected-access\u001b[39;00m\n\u001b[0;32m   1158\u001b[0m \u001b[38;5;28;01mreturn\u001b[39;00m maybe_arr\u001b[38;5;241m.\u001b[39mcopy() \u001b[38;5;28;01mif\u001b[39;00m \u001b[38;5;28misinstance\u001b[39m(maybe_arr, np\u001b[38;5;241m.\u001b[39mndarray) \u001b[38;5;28;01melse\u001b[39;00m maybe_arr\n",
      "File \u001b[1;32m~\\miniconda3\\envs\\tf\\lib\\site-packages\\tensorflow\\python\\framework\\ops.py:1123\u001b[0m, in \u001b[0;36m_EagerTensorBase._numpy\u001b[1;34m(self)\u001b[0m\n\u001b[0;32m   1121\u001b[0m \u001b[38;5;28;01mdef\u001b[39;00m \u001b[38;5;21m_numpy\u001b[39m(\u001b[38;5;28mself\u001b[39m):\n\u001b[0;32m   1122\u001b[0m   \u001b[38;5;28;01mtry\u001b[39;00m:\n\u001b[1;32m-> 1123\u001b[0m     \u001b[38;5;28;01mreturn\u001b[39;00m \u001b[38;5;28;43mself\u001b[39;49m\u001b[38;5;241;43m.\u001b[39;49m\u001b[43m_numpy_internal\u001b[49m\u001b[43m(\u001b[49m\u001b[43m)\u001b[49m\n\u001b[0;32m   1124\u001b[0m   \u001b[38;5;28;01mexcept\u001b[39;00m core\u001b[38;5;241m.\u001b[39m_NotOkStatusException \u001b[38;5;28;01mas\u001b[39;00m e:  \u001b[38;5;66;03m# pylint: disable=protected-access\u001b[39;00m\n\u001b[0;32m   1125\u001b[0m     \u001b[38;5;28;01mraise\u001b[39;00m core\u001b[38;5;241m.\u001b[39m_status_to_exception(e) \u001b[38;5;28;01mfrom\u001b[39;00m \u001b[38;5;28mNone\u001b[39m\n",
      "\u001b[1;31mKeyboardInterrupt\u001b[0m: "
     ]
    }
   ],
   "source": [
    "model.compile(optimizer = Adam(lr=1e-4), \n",
    "              loss = 'categorical_crossentropy', \n",
    "              metrics = ['accuracy'])\n",
    "model.fit(x = train_generator,\n",
    "          validation_data = validation_generator,\n",
    "          epochs = EPOCHS)\n"
   ]
  },
  {
   "cell_type": "code",
   "execution_count": 90,
   "id": "a24bb209",
   "metadata": {
    "scrolled": true
   },
   "outputs": [
    {
     "name": "stdout",
     "output_type": "stream",
     "text": [
      "Epoch 1/20\n",
      "180/180 [==============================] - 43s 162ms/step - loss: 1.5717 - accuracy: 0.3871 - val_loss: 1.6247 - val_accuracy: 0.3722\n",
      "Epoch 2/20\n",
      "180/180 [==============================] - 26s 144ms/step - loss: 1.5499 - accuracy: 0.3964 - val_loss: 1.5726 - val_accuracy: 0.3844\n",
      "Epoch 3/20\n",
      "180/180 [==============================] - 26s 144ms/step - loss: 1.5447 - accuracy: 0.3962 - val_loss: 1.5950 - val_accuracy: 0.3921\n",
      "Epoch 4/20\n",
      "180/180 [==============================] - 26s 145ms/step - loss: 1.5270 - accuracy: 0.4089 - val_loss: 1.5242 - val_accuracy: 0.4106\n",
      "Epoch 5/20\n",
      "180/180 [==============================] - 26s 145ms/step - loss: 1.5128 - accuracy: 0.4114 - val_loss: 1.5327 - val_accuracy: 0.4072\n",
      "Epoch 6/20\n",
      "180/180 [==============================] - 26s 145ms/step - loss: 1.4938 - accuracy: 0.4205 - val_loss: 1.5060 - val_accuracy: 0.4255\n",
      "Epoch 7/20\n",
      "180/180 [==============================] - 26s 145ms/step - loss: 1.4895 - accuracy: 0.4235 - val_loss: 1.5247 - val_accuracy: 0.4114\n",
      "Epoch 8/20\n",
      "180/180 [==============================] - 26s 145ms/step - loss: 1.4649 - accuracy: 0.4340 - val_loss: 1.5513 - val_accuracy: 0.4158\n",
      "Epoch 9/20\n",
      "180/180 [==============================] - 26s 144ms/step - loss: 1.4527 - accuracy: 0.4395 - val_loss: 1.5279 - val_accuracy: 0.4287\n",
      "Epoch 10/20\n",
      "180/180 [==============================] - 26s 145ms/step - loss: 1.4409 - accuracy: 0.4430 - val_loss: 1.5399 - val_accuracy: 0.4187\n",
      "Epoch 11/20\n",
      "180/180 [==============================] - 26s 145ms/step - loss: 1.4165 - accuracy: 0.4573 - val_loss: 1.5095 - val_accuracy: 0.4334\n",
      "Epoch 12/20\n",
      "180/180 [==============================] - 27s 152ms/step - loss: 1.4009 - accuracy: 0.4627 - val_loss: 1.5073 - val_accuracy: 0.4374\n",
      "Epoch 13/20\n",
      "180/180 [==============================] - 26s 145ms/step - loss: 1.3840 - accuracy: 0.4665 - val_loss: 1.5002 - val_accuracy: 0.4443\n",
      "Epoch 14/20\n",
      "180/180 [==============================] - 26s 144ms/step - loss: 1.3637 - accuracy: 0.4747 - val_loss: 1.5257 - val_accuracy: 0.4275\n",
      "Epoch 15/20\n",
      "180/180 [==============================] - 26s 145ms/step - loss: 1.3390 - accuracy: 0.4887 - val_loss: 1.5086 - val_accuracy: 0.4335\n",
      "Epoch 16/20\n",
      "180/180 [==============================] - 26s 146ms/step - loss: 1.3234 - accuracy: 0.4951 - val_loss: 1.5268 - val_accuracy: 0.4369\n",
      "Epoch 17/20\n",
      "180/180 [==============================] - 26s 144ms/step - loss: 1.3014 - accuracy: 0.5003 - val_loss: 1.5529 - val_accuracy: 0.4504\n",
      "Epoch 18/20\n",
      "180/180 [==============================] - 27s 148ms/step - loss: 1.2769 - accuracy: 0.5136 - val_loss: 1.5530 - val_accuracy: 0.4503\n",
      "Epoch 19/20\n",
      "180/180 [==============================] - 26s 144ms/step - loss: 1.2480 - accuracy: 0.5246 - val_loss: 1.5219 - val_accuracy: 0.4640\n",
      "Epoch 20/20\n",
      "180/180 [==============================] - 26s 145ms/step - loss: 1.2165 - accuracy: 0.5381 - val_loss: 1.4972 - val_accuracy: 0.4621\n"
     ]
    },
    {
     "data": {
      "text/plain": [
       "<keras.callbacks.History at 0x1bd6304f700>"
      ]
     },
     "execution_count": 90,
     "metadata": {},
     "output_type": "execute_result"
    }
   ],
   "source": [
    "model.layers[1].trainable = True\n",
    "\n",
    "model.compile(optimizer=Adam(lr=1e-4), #lower learning rate\n",
    "                loss='categorical_crossentropy',\n",
    "                metrics = ['accuracy'])\n",
    "\n",
    "model.fit(x = train_generator,epochs = FINE_TUNING_EPOCHS ,validation_data = validation_generator)"
   ]
  },
  {
   "cell_type": "code",
   "execution_count": 91,
   "id": "05732a29",
   "metadata": {},
   "outputs": [
    {
     "name": "stdout",
     "output_type": "stream",
     "text": [
      "Epoch 1/80\n",
      "180/180 [==============================] - 26s 144ms/step - loss: 1.1889 - accuracy: 0.5521 - val_loss: 1.5318 - val_accuracy: 0.4450\n",
      "Epoch 2/80\n",
      "180/180 [==============================] - 26s 145ms/step - loss: 1.1574 - accuracy: 0.5645 - val_loss: 1.5156 - val_accuracy: 0.4677\n",
      "Epoch 3/80\n",
      "180/180 [==============================] - 26s 143ms/step - loss: 1.1295 - accuracy: 0.5764 - val_loss: 1.5971 - val_accuracy: 0.4578\n",
      "Epoch 4/80\n",
      "180/180 [==============================] - 26s 144ms/step - loss: 1.1024 - accuracy: 0.5899 - val_loss: 1.5639 - val_accuracy: 0.4632\n",
      "Epoch 5/80\n",
      "180/180 [==============================] - 26s 146ms/step - loss: 1.0737 - accuracy: 0.5973 - val_loss: 1.5894 - val_accuracy: 0.4471\n",
      "Epoch 6/80\n",
      "180/180 [==============================] - 27s 150ms/step - loss: 1.0369 - accuracy: 0.6127 - val_loss: 1.6197 - val_accuracy: 0.4679\n",
      "Epoch 7/80\n",
      "180/180 [==============================] - 26s 145ms/step - loss: 1.0050 - accuracy: 0.6258 - val_loss: 1.6514 - val_accuracy: 0.4647\n",
      "Epoch 8/80\n",
      "180/180 [==============================] - 27s 149ms/step - loss: 0.9779 - accuracy: 0.6390 - val_loss: 1.6587 - val_accuracy: 0.4720\n",
      "Epoch 9/80\n",
      "180/180 [==============================] - 26s 144ms/step - loss: 0.9392 - accuracy: 0.6543 - val_loss: 1.6946 - val_accuracy: 0.4686\n",
      "Epoch 10/80\n",
      "180/180 [==============================] - 26s 144ms/step - loss: 0.9088 - accuracy: 0.6604 - val_loss: 1.7269 - val_accuracy: 0.4644\n",
      "Epoch 11/80\n",
      "180/180 [==============================] - 26s 144ms/step - loss: 0.8726 - accuracy: 0.6782 - val_loss: 1.7260 - val_accuracy: 0.4754\n",
      "Epoch 12/80\n",
      "180/180 [==============================] - 27s 150ms/step - loss: 0.8339 - accuracy: 0.6907 - val_loss: 1.7741 - val_accuracy: 0.4686\n",
      "Epoch 13/80\n",
      "180/180 [==============================] - 26s 144ms/step - loss: 0.8040 - accuracy: 0.7022 - val_loss: 1.7837 - val_accuracy: 0.4750\n",
      "Epoch 14/80\n",
      "180/180 [==============================] - 26s 144ms/step - loss: 0.7628 - accuracy: 0.7206 - val_loss: 1.8724 - val_accuracy: 0.4712\n",
      "Epoch 15/80\n",
      "180/180 [==============================] - 26s 143ms/step - loss: 0.7351 - accuracy: 0.7328 - val_loss: 1.8469 - val_accuracy: 0.4741\n",
      "Epoch 16/80\n",
      "180/180 [==============================] - 26s 143ms/step - loss: 0.7012 - accuracy: 0.7469 - val_loss: 1.8767 - val_accuracy: 0.4675\n",
      "Epoch 17/80\n",
      "180/180 [==============================] - 26s 144ms/step - loss: 0.6597 - accuracy: 0.7596 - val_loss: 1.9333 - val_accuracy: 0.4755\n",
      "Epoch 18/80\n",
      "180/180 [==============================] - 26s 144ms/step - loss: 0.6416 - accuracy: 0.7683 - val_loss: 2.0018 - val_accuracy: 0.4731\n",
      "Epoch 19/80\n",
      "180/180 [==============================] - 26s 145ms/step - loss: 0.6088 - accuracy: 0.7810 - val_loss: 2.0958 - val_accuracy: 0.4827\n",
      "Epoch 20/80\n",
      "180/180 [==============================] - 26s 144ms/step - loss: 0.5732 - accuracy: 0.7921 - val_loss: 2.1074 - val_accuracy: 0.4841\n",
      "Epoch 21/80\n",
      "180/180 [==============================] - 26s 144ms/step - loss: 0.5402 - accuracy: 0.8053 - val_loss: 2.1746 - val_accuracy: 0.4787\n",
      "Epoch 22/80\n",
      "180/180 [==============================] - 26s 144ms/step - loss: 0.5239 - accuracy: 0.8126 - val_loss: 2.0958 - val_accuracy: 0.4752\n",
      "Epoch 23/80\n",
      "180/180 [==============================] - 26s 144ms/step - loss: 0.5061 - accuracy: 0.8173 - val_loss: 2.2602 - val_accuracy: 0.4797\n",
      "Epoch 24/80\n",
      "180/180 [==============================] - 26s 143ms/step - loss: 0.4721 - accuracy: 0.8313 - val_loss: 2.2351 - val_accuracy: 0.4679\n",
      "Epoch 25/80\n",
      "180/180 [==============================] - 26s 144ms/step - loss: 0.4526 - accuracy: 0.8407 - val_loss: 2.3226 - val_accuracy: 0.4820\n",
      "Epoch 26/80\n",
      "180/180 [==============================] - 26s 145ms/step - loss: 0.4348 - accuracy: 0.8453 - val_loss: 2.3158 - val_accuracy: 0.4771\n",
      "Epoch 27/80\n",
      "180/180 [==============================] - 26s 145ms/step - loss: 0.4099 - accuracy: 0.8528 - val_loss: 2.3912 - val_accuracy: 0.4722\n",
      "Epoch 28/80\n",
      "180/180 [==============================] - 26s 143ms/step - loss: 0.3945 - accuracy: 0.8608 - val_loss: 2.4545 - val_accuracy: 0.4813\n",
      "Epoch 29/80\n",
      "180/180 [==============================] - 26s 143ms/step - loss: 0.3730 - accuracy: 0.8686 - val_loss: 2.5007 - val_accuracy: 0.4623\n",
      "Epoch 30/80\n",
      "180/180 [==============================] - 26s 144ms/step - loss: 0.3559 - accuracy: 0.8772 - val_loss: 2.4109 - val_accuracy: 0.4844\n",
      "Epoch 31/80\n",
      "180/180 [==============================] - 26s 144ms/step - loss: 0.3479 - accuracy: 0.8800 - val_loss: 2.5487 - val_accuracy: 0.4708\n",
      "Epoch 32/80\n",
      "180/180 [==============================] - 26s 143ms/step - loss: 0.3292 - accuracy: 0.8820 - val_loss: 2.5149 - val_accuracy: 0.4943\n",
      "Epoch 33/80\n",
      "180/180 [==============================] - 26s 144ms/step - loss: 0.3084 - accuracy: 0.8930 - val_loss: 2.6129 - val_accuracy: 0.4884\n",
      "Epoch 34/80\n",
      "180/180 [==============================] - 26s 145ms/step - loss: 0.3000 - accuracy: 0.8959 - val_loss: 2.5521 - val_accuracy: 0.4900\n",
      "Epoch 35/80\n",
      "180/180 [==============================] - 26s 144ms/step - loss: 0.2829 - accuracy: 0.9006 - val_loss: 2.6719 - val_accuracy: 0.4830\n",
      "Epoch 36/80\n",
      "180/180 [==============================] - 26s 143ms/step - loss: 0.2829 - accuracy: 0.9024 - val_loss: 2.6359 - val_accuracy: 0.4907\n",
      "Epoch 37/80\n",
      "180/180 [==============================] - 26s 144ms/step - loss: 0.2685 - accuracy: 0.9033 - val_loss: 2.7210 - val_accuracy: 0.4769\n",
      "Epoch 38/80\n",
      "180/180 [==============================] - 26s 143ms/step - loss: 0.2629 - accuracy: 0.9094 - val_loss: 2.6940 - val_accuracy: 0.4926\n",
      "Epoch 39/80\n",
      "180/180 [==============================] - 26s 145ms/step - loss: 0.2459 - accuracy: 0.9153 - val_loss: 2.7723 - val_accuracy: 0.4888\n",
      "Epoch 40/80\n",
      "180/180 [==============================] - 26s 143ms/step - loss: 0.2423 - accuracy: 0.9136 - val_loss: 2.7742 - val_accuracy: 0.4818\n",
      "Epoch 41/80\n",
      "180/180 [==============================] - 26s 144ms/step - loss: 0.2401 - accuracy: 0.9158 - val_loss: 2.7597 - val_accuracy: 0.4921\n",
      "Epoch 42/80\n",
      "180/180 [==============================] - 26s 144ms/step - loss: 0.2284 - accuracy: 0.9198 - val_loss: 2.7993 - val_accuracy: 0.4997\n",
      "Epoch 43/80\n",
      "180/180 [==============================] - 26s 144ms/step - loss: 0.2239 - accuracy: 0.9226 - val_loss: 2.8226 - val_accuracy: 0.4860\n",
      "Epoch 44/80\n",
      "180/180 [==============================] - 26s 144ms/step - loss: 0.2163 - accuracy: 0.9259 - val_loss: 2.9366 - val_accuracy: 0.4868\n",
      "Epoch 45/80\n",
      "180/180 [==============================] - 26s 143ms/step - loss: 0.2046 - accuracy: 0.9292 - val_loss: 2.8836 - val_accuracy: 0.4808\n",
      "Epoch 46/80\n",
      "180/180 [==============================] - 26s 143ms/step - loss: 0.2018 - accuracy: 0.9315 - val_loss: 2.8588 - val_accuracy: 0.4999\n",
      "Epoch 47/80\n",
      "180/180 [==============================] - 26s 144ms/step - loss: 0.1935 - accuracy: 0.9333 - val_loss: 2.8701 - val_accuracy: 0.4917\n",
      "Epoch 48/80\n",
      "180/180 [==============================] - 26s 144ms/step - loss: 0.1834 - accuracy: 0.9360 - val_loss: 2.9097 - val_accuracy: 0.4825\n",
      "Epoch 49/80\n",
      "180/180 [==============================] - 26s 143ms/step - loss: 0.1861 - accuracy: 0.9351 - val_loss: 2.9304 - val_accuracy: 0.4921\n",
      "Epoch 50/80\n",
      "180/180 [==============================] - 26s 144ms/step - loss: 0.1880 - accuracy: 0.9350 - val_loss: 2.9618 - val_accuracy: 0.4858\n",
      "Epoch 51/80\n",
      "180/180 [==============================] - 26s 145ms/step - loss: 0.1789 - accuracy: 0.9374 - val_loss: 2.9960 - val_accuracy: 0.4868\n",
      "Epoch 52/80\n",
      "180/180 [==============================] - 26s 144ms/step - loss: 0.1768 - accuracy: 0.9394 - val_loss: 3.0330 - val_accuracy: 0.4818\n",
      "Epoch 53/80\n",
      "180/180 [==============================] - 26s 144ms/step - loss: 0.1698 - accuracy: 0.9407 - val_loss: 2.9136 - val_accuracy: 0.4928\n",
      "Epoch 54/80\n",
      "180/180 [==============================] - 26s 145ms/step - loss: 0.1698 - accuracy: 0.9424 - val_loss: 2.9911 - val_accuracy: 0.4952\n",
      "Epoch 55/80\n",
      "180/180 [==============================] - 26s 143ms/step - loss: 0.1615 - accuracy: 0.9431 - val_loss: 3.0349 - val_accuracy: 0.4976\n",
      "Epoch 56/80\n",
      "180/180 [==============================] - 26s 143ms/step - loss: 0.1643 - accuracy: 0.9429 - val_loss: 3.0714 - val_accuracy: 0.4879\n",
      "Epoch 57/80\n",
      "180/180 [==============================] - 26s 143ms/step - loss: 0.1481 - accuracy: 0.9496 - val_loss: 3.0155 - val_accuracy: 0.4929\n",
      "Epoch 58/80\n",
      "180/180 [==============================] - 26s 143ms/step - loss: 0.1527 - accuracy: 0.9491 - val_loss: 3.0740 - val_accuracy: 0.4851\n",
      "Epoch 59/80\n",
      "180/180 [==============================] - 26s 143ms/step - loss: 0.1444 - accuracy: 0.9498 - val_loss: 3.0945 - val_accuracy: 0.4949\n",
      "Epoch 60/80\n",
      "180/180 [==============================] - 26s 143ms/step - loss: 0.1517 - accuracy: 0.9485 - val_loss: 2.9959 - val_accuracy: 0.4910\n",
      "Epoch 61/80\n",
      "180/180 [==============================] - 26s 143ms/step - loss: 0.1423 - accuracy: 0.9481 - val_loss: 3.2131 - val_accuracy: 0.4919\n",
      "Epoch 62/80\n",
      "180/180 [==============================] - 26s 143ms/step - loss: 0.1480 - accuracy: 0.9500 - val_loss: 3.1049 - val_accuracy: 0.4865\n",
      "Epoch 63/80\n",
      "180/180 [==============================] - 26s 145ms/step - loss: 0.1311 - accuracy: 0.9541 - val_loss: 3.2742 - val_accuracy: 0.4902\n",
      "Epoch 64/80\n",
      "180/180 [==============================] - 26s 143ms/step - loss: 0.1406 - accuracy: 0.9514 - val_loss: 3.2193 - val_accuracy: 0.4802\n",
      "Epoch 65/80\n",
      "180/180 [==============================] - 26s 144ms/step - loss: 0.1369 - accuracy: 0.9539 - val_loss: 3.1449 - val_accuracy: 0.4882\n",
      "Epoch 66/80\n",
      "180/180 [==============================] - 26s 144ms/step - loss: 0.1304 - accuracy: 0.9545 - val_loss: 3.1598 - val_accuracy: 0.4868\n",
      "Epoch 67/80\n",
      "180/180 [==============================] - 26s 144ms/step - loss: 0.1285 - accuracy: 0.9545 - val_loss: 3.2148 - val_accuracy: 0.4903\n",
      "Epoch 68/80\n",
      "180/180 [==============================] - 26s 142ms/step - loss: 0.1257 - accuracy: 0.9568 - val_loss: 3.1442 - val_accuracy: 0.5039\n",
      "Epoch 69/80\n",
      "180/180 [==============================] - 26s 144ms/step - loss: 0.1322 - accuracy: 0.9521 - val_loss: 3.2119 - val_accuracy: 0.4935\n",
      "Epoch 70/80\n",
      "180/180 [==============================] - 26s 144ms/step - loss: 0.1261 - accuracy: 0.9572 - val_loss: 3.1661 - val_accuracy: 0.4959\n",
      "Epoch 71/80\n",
      "180/180 [==============================] - 26s 144ms/step - loss: 0.1223 - accuracy: 0.9587 - val_loss: 3.1272 - val_accuracy: 0.5001\n",
      "Epoch 72/80\n",
      "180/180 [==============================] - 26s 144ms/step - loss: 0.1163 - accuracy: 0.9588 - val_loss: 3.1995 - val_accuracy: 0.4896\n",
      "Epoch 73/80\n",
      "180/180 [==============================] - 26s 145ms/step - loss: 0.1207 - accuracy: 0.9589 - val_loss: 3.1202 - val_accuracy: 0.4931\n",
      "Epoch 74/80\n",
      "180/180 [==============================] - 26s 144ms/step - loss: 0.1199 - accuracy: 0.9589 - val_loss: 3.1724 - val_accuracy: 0.4912\n",
      "Epoch 75/80\n",
      "180/180 [==============================] - 26s 145ms/step - loss: 0.1128 - accuracy: 0.9611 - val_loss: 3.2894 - val_accuracy: 0.4916\n",
      "Epoch 76/80\n",
      "180/180 [==============================] - 26s 144ms/step - loss: 0.1121 - accuracy: 0.9626 - val_loss: 3.1885 - val_accuracy: 0.4954\n",
      "Epoch 77/80\n",
      "180/180 [==============================] - 26s 143ms/step - loss: 0.1121 - accuracy: 0.9619 - val_loss: 3.2308 - val_accuracy: 0.4909\n",
      "Epoch 78/80\n",
      "180/180 [==============================] - 27s 149ms/step - loss: 0.1157 - accuracy: 0.9598 - val_loss: 3.2039 - val_accuracy: 0.4872\n",
      "Epoch 79/80\n",
      "180/180 [==============================] - 26s 144ms/step - loss: 0.1112 - accuracy: 0.9607 - val_loss: 3.1810 - val_accuracy: 0.4938\n",
      "Epoch 80/80\n",
      "180/180 [==============================] - 27s 151ms/step - loss: 0.1057 - accuracy: 0.9620 - val_loss: 3.2582 - val_accuracy: 0.4905\n"
     ]
    },
    {
     "data": {
      "text/plain": [
       "<keras.callbacks.History at 0x1bd63038550>"
      ]
     },
     "execution_count": 91,
     "metadata": {},
     "output_type": "execute_result"
    }
   ],
   "source": [
    "model.fit(x = train_generator,epochs = 80 ,validation_data = validation_generator)"
   ]
  },
  {
   "cell_type": "code",
   "execution_count": 92,
   "id": "741157ba",
   "metadata": {},
   "outputs": [],
   "source": [
    "import os\n",
    "resultPath = \"\"\" Add Path to save models here \"\"\"\n",
    "file = \"ViT_100Epochs.h5\"\n",
    "modelPath = os.path.join(resultPath, file)\n",
    "model.save(modelPath)"
   ]
  },
  {
   "cell_type": "code",
   "execution_count": null,
   "id": "75a46c67",
   "metadata": {},
   "outputs": [],
   "source": []
  },
  {
   "cell_type": "code",
   "execution_count": null,
   "id": "4df5bdc1",
   "metadata": {},
   "outputs": [],
   "source": []
  }
 ],
 "metadata": {
  "kernelspec": {
   "display_name": "Python 3 (ipykernel)",
   "language": "python",
   "name": "python3"
  },
  "language_info": {
   "codemirror_mode": {
    "name": "ipython",
    "version": 3
   },
   "file_extension": ".py",
   "mimetype": "text/x-python",
   "name": "python",
   "nbconvert_exporter": "python",
   "pygments_lexer": "ipython3",
   "version": "3.8.8"
  }
 },
 "nbformat": 4,
 "nbformat_minor": 5
}
