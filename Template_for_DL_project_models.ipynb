{
 "cells": [
  {
   "cell_type": "markdown",
   "id": "9e613a7f",
   "metadata": {},
   "source": [
    "### Install packages"
   ]
  },
  {
   "cell_type": "code",
   "execution_count": null,
   "id": "67db7448",
   "metadata": {},
   "outputs": [],
   "source": [
    "!pip install plotly"
   ]
  },
  {
   "cell_type": "markdown",
   "id": "11327d62",
   "metadata": {},
   "source": [
    "### Imports"
   ]
  },
  {
   "cell_type": "code",
   "execution_count": null,
   "id": "b4282d75",
   "metadata": {},
   "outputs": [],
   "source": [
    "import numpy as np\n",
    "import matplotlib.pyplot as plt\n",
    "from IPython.display import clear_output\n",
    "import tensorflow as tf\n",
    "import plotly.express as px\n",
    "from keras.models import Model\n",
    "from keras.layers import Conv2D, MaxPool2D, ReLU, Dropout, AvgPool2D, Dense, Input, Flatten\n",
    "from tensorflow.keras.optimizers import Adam\n",
    "from tensorflow.keras.preprocessing.image import ImageDataGenerator"
   ]
  },
  {
   "cell_type": "markdown",
   "id": "95d9c174",
   "metadata": {},
   "source": [
    "### Define constants"
   ]
  },
  {
   "cell_type": "code",
   "execution_count": null,
   "id": "99f24112",
   "metadata": {},
   "outputs": [],
   "source": [
    "train_dir = \"\"\" Add Path to train directory of dataset \"\"\"\n",
    "test_dir = \"\"\" Add Path to test directory of dataset \"\"\"\n",
    "model_path = \"\"\" Add Path to save models \"\"\"\n",
    "\n",
    "CLASS_LABELS  = ['Anger', 'Disgust', 'Fear', 'Happy', 'Neutral', 'Sadness', \"Surprise\"]\n",
    "\n",
    "SEED = 12\n",
    "IMG_HEIGHT = 48\n",
    "IMG_WIDTH = 48\n",
    "BATCH_SIZE = 64\n",
    "EPOCHS = 100\n",
    "FINE_TUNING_EPOCHS = 20 \n",
    "LR = 0.001\n",
    "NUM_CLASSES = len(CLASS_LABELS)\n",
    "EARLY_STOPPING_CRITERIA = 3"
   ]
  },
  {
   "cell_type": "markdown",
   "id": "036647dc",
   "metadata": {},
   "source": [
    "### Load dataset\n",
    "Dowload dataset from [FER-2013](https://www.kaggle.com/datasets/ananthu017/emotion-detection-fer/download?datasetVersionNumber=1)"
   ]
  },
  {
   "cell_type": "code",
   "execution_count": null,
   "id": "3b2cc91d",
   "metadata": {},
   "outputs": [],
   "source": [
    "preprocess_fun = tf.keras.applications.densenet.preprocess_input\n",
    "\n",
    "train_datagen = ImageDataGenerator(horizontal_flip=True,\n",
    "                                   width_shift_range=0.1,\n",
    "                                   height_shift_range=0.05,\n",
    "                                   rescale = 1./255,\n",
    "                                   validation_split = 0.2,\n",
    "                                   preprocessing_function=preprocess_fun\n",
    "                                  )\n",
    "test_datagen = ImageDataGenerator(rescale = 1./255,\n",
    "                                  validation_split = 0.2,\n",
    "                                  preprocessing_function=preprocess_fun)\n",
    "\n",
    "train_generator = train_datagen.flow_from_directory(directory = train_dir,\n",
    "                                                    target_size = (IMG_HEIGHT ,IMG_WIDTH),\n",
    "                                                    batch_size = BATCH_SIZE,\n",
    "                                                    shuffle  = True , \n",
    "                                                    color_mode = \"rgb\",\n",
    "                                                    class_mode = \"categorical\",\n",
    "                                                    subset = \"training\",\n",
    "                                                    seed = 12\n",
    "                                                   )\n",
    "\n",
    "validation_generator = test_datagen.flow_from_directory(directory = train_dir,\n",
    "                                                         target_size = (IMG_HEIGHT ,IMG_WIDTH),\n",
    "                                                         batch_size = BATCH_SIZE,\n",
    "                                                         shuffle  = True , \n",
    "                                                         color_mode = \"rgb\",\n",
    "                                                         class_mode = \"categorical\",\n",
    "                                                         subset = \"validation\",\n",
    "                                                         seed = 12\n",
    "                                                        )\n",
    "\n",
    "test_generator = test_datagen.flow_from_directory(directory = test_dir,\n",
    "                                                   target_size = (IMG_HEIGHT ,IMG_WIDTH),\n",
    "                                                    batch_size = BATCH_SIZE,\n",
    "                                                    shuffle  = False , \n",
    "                                                    color_mode = \"rgb\",\n",
    "                                                    class_mode = \"categorical\",\n",
    "                                                    seed = 12\n",
    "                                                  )\n"
   ]
  },
  {
   "cell_type": "markdown",
   "id": "308e346c",
   "metadata": {},
   "source": [
    "### Define model"
   ]
  },
  {
   "cell_type": "code",
   "execution_count": null,
   "id": "c4adc6ae",
   "metadata": {},
   "outputs": [],
   "source": [
    "def model(optimizer):\n",
    "\n",
    "    input = Input(shape=(IMG_HEIGHT, IMG_WIDTH, 3))\n",
    "    \n",
    "    \"\"\"\n",
    "    Define the Model layers here\n",
    "    \n",
    "    \"\"\"\n",
    "    \n",
    "    output = Dense(NUM_CLASSES, activation='softmax')()\n",
    "    \n",
    "    model = Model(input, output)\n",
    "    model.compile(optimizer=optimizer, loss='categorical_crossentropy', \n",
    "                  metrics=['accuracy'])\n",
    "\n",
    "    return model"
   ]
  },
  {
   "cell_type": "code",
   "execution_count": null,
   "id": "c8e1b0d9",
   "metadata": {},
   "outputs": [],
   "source": [
    "model = Model(Adam(lr=1e-3))\n",
    "model.summary()"
   ]
  },
  {
   "cell_type": "code",
   "execution_count": null,
   "id": "42fd838e",
   "metadata": {},
   "outputs": [],
   "source": [
    "model.fit(x = train_generator,\n",
    "        epochs = EPOCHS ,\n",
    "        validation_data = validation_generator)"
   ]
  }
 ],
 "metadata": {
  "kernelspec": {
   "display_name": "Python 3 (ipykernel)",
   "language": "python",
   "name": "python3"
  },
  "language_info": {
   "codemirror_mode": {
    "name": "ipython",
    "version": 3
   },
   "file_extension": ".py",
   "mimetype": "text/x-python",
   "name": "python",
   "nbconvert_exporter": "python",
   "pygments_lexer": "ipython3",
   "version": "3.8.8"
  }
 },
 "nbformat": 4,
 "nbformat_minor": 5
}
